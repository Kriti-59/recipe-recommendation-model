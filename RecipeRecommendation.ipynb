{
 "cells": [
  {
   "cell_type": "markdown",
   "id": "c38337ac-3dce-433f-a96b-1c5cf1e86cdc",
   "metadata": {},
   "source": [
    "## Recipe Recommendation "
   ]
  },
  {
   "cell_type": "code",
   "execution_count": 1,
   "id": "9ef7eb37-0b4e-4c76-ac81-d5c40c3a3ea2",
   "metadata": {},
   "outputs": [],
   "source": [
    "import pandas as pd\n",
    "import numpy as np"
   ]
  },
  {
   "cell_type": "code",
   "execution_count": 2,
   "id": "54b44b3e-3d6e-4430-8776-80b7e188df8a",
   "metadata": {},
   "outputs": [],
   "source": [
    "# Load the dataset\n",
    "data = pd.read_csv(\"recipes_ingredients.csv\")"
   ]
  },
  {
   "cell_type": "code",
   "execution_count": 3,
   "id": "b3b438ad-3781-425a-acb8-5ceae91b5c90",
   "metadata": {
    "scrolled": true
   },
   "outputs": [
    {
     "name": "stdout",
     "output_type": "stream",
     "text": [
      "(500471, 9)\n",
      "Index(['id', 'name', 'description', 'ingredients', 'ingredients_raw', 'steps',\n",
      "       'servings', 'serving_size', 'tags'],\n",
      "      dtype='object')\n",
      "       id                             name  \\\n",
      "0   71247          Cherry Streusel Cobbler   \n",
      "1   76133  Reuben and Swiss Casserole Bake   \n",
      "2  503816                 Yam-Pecan Recipe   \n",
      "\n",
      "                                         description  \\\n",
      "0  I haven't made this in years, so I'm just gues...   \n",
      "1  I think this is even better than a reuben sand...   \n",
      "2  A lady I work with heard me taking about ZWT a...   \n",
      "\n",
      "                                         ingredients  \\\n",
      "0  [\"cherry pie filling\", \"condensed milk\", \"melt...   \n",
      "1  [\"corned beef chopped\", \"sauerkraut cold water...   \n",
      "2  [\"unsalted butter\", \"vegetable oil\", \"all - pu...   \n",
      "\n",
      "                                     ingredients_raw  \\\n",
      "0  [\"2 (21   ounce) cans   cherry pie filling\",\"2...   \n",
      "1  [\"1/2-1   lb    corned beef, cooked and choppe...   \n",
      "2  [\"3/4  cup    unsalted butter, at room tempera...   \n",
      "\n",
      "                                               steps  servings serving_size  \\\n",
      "0  [\"Preheat oven to 375°F.\", \"Spread cherry pie ...       6.0    1 (347 g)   \n",
      "1  [\"Set oven to 350 degrees F.\", \"Butter a 9 x 1...       4.0    1 (207 g)   \n",
      "2  [\"Preheat oven to 350°F  In a mixing bowl, usi...       8.0    1 (198 g)   \n",
      "\n",
      "                                                tags  \n",
      "0  [\"60-minutes-or-less\", \"time-to-make\", \"course...  \n",
      "1  [\"60-minutes-or-less\", \"time-to-make\", \"course...  \n",
      "2  [\"time-to-make\", \"course\", \"main-ingredient\", ...  \n"
     ]
    }
   ],
   "source": [
    "print(data.shape)\n",
    "print(data.columns)\n",
    "print(data.head(3))"
   ]
  },
  {
   "cell_type": "code",
   "execution_count": 4,
   "id": "eeeabcb9-5141-420c-b581-f179684d61bd",
   "metadata": {},
   "outputs": [
    {
     "name": "stdout",
     "output_type": "stream",
     "text": [
      "       id                             name  \\\n",
      "0   71247          Cherry Streusel Cobbler   \n",
      "1   76133  Reuben and Swiss Casserole Bake   \n",
      "2  503816                 Yam-Pecan Recipe   \n",
      "\n",
      "                                         ingredients  \\\n",
      "0  [\"cherry pie filling\", \"condensed milk\", \"melt...   \n",
      "1  [\"corned beef chopped\", \"sauerkraut cold water...   \n",
      "2  [\"unsalted butter\", \"vegetable oil\", \"all - pu...   \n",
      "\n",
      "                                               steps  \n",
      "0  [\"Preheat oven to 375°F.\", \"Spread cherry pie ...  \n",
      "1  [\"Set oven to 350 degrees F.\", \"Butter a 9 x 1...  \n",
      "2  [\"Preheat oven to 350°F  In a mixing bowl, usi...  \n"
     ]
    }
   ],
   "source": [
    "recipes = data[['id', 'name', 'ingredients', 'steps']]\n",
    "print(recipes.head(3))"
   ]
  },
  {
   "cell_type": "code",
   "execution_count": 5,
   "id": "48d625f3-c282-4f81-837f-8ad4bd62cb0d",
   "metadata": {},
   "outputs": [
    {
     "name": "stdout",
     "output_type": "stream",
     "text": [
      "[\"cherry pie filling\", \"condensed milk\", \"melted margarine\", \"cinnamon\", \"nutmeg\", \"light brown sugar\", \"flour\", \"margarine\", \"chopped nuts\", \"oats\", \"butter - flavored cooking spray\"]\n"
     ]
    }
   ],
   "source": [
    "print(recipes['ingredients'].iloc[0])"
   ]
  },
  {
   "cell_type": "markdown",
   "id": "884168d5-de58-4a41-8167-7b729d3c3ecf",
   "metadata": {},
   "source": [
    "### Convert ingredients_list into TF-IDF vectors."
   ]
  },
  {
   "cell_type": "code",
   "execution_count": 6,
   "id": "a8990f02-62c0-424c-8bfe-55b002a7eeca",
   "metadata": {},
   "outputs": [],
   "source": [
    "from sklearn.feature_extraction.text import TfidfVectorizer\n",
    "from sklearn.metrics.pairwise import cosine_similarity"
   ]
  },
  {
   "cell_type": "code",
   "execution_count": 7,
   "id": "c218e7c5-483f-458e-9829-a5a0c7e4cbea",
   "metadata": {},
   "outputs": [],
   "source": [
    "vectorizer = TfidfVectorizer()\n",
    "X = vectorizer.fit_transform(recipes[\"ingredients\"])"
   ]
  },
  {
   "cell_type": "code",
   "execution_count": 22,
   "id": "70b6c045-1f75-473e-97f6-1e5178e27bdf",
   "metadata": {},
   "outputs": [],
   "source": [
    "def recommend_recipes(user_ingredients, top_n):\n",
    "    user_input = \" \".join(user_ingredients)\n",
    "    user_vec = vectorizer.transform([user_input])\n",
    "    similarities = cosine_similarity(user_vec, X).flatten()\n",
    "\n",
    "    top_indices = similarities.argsort()[-top_n:][::-1]\n",
    "    results = recipes.iloc[top_indices][[\"name\", \"ingredients\", \"steps\"]].copy()\n",
    "    results[\"similarity\"] = similarities[top_indices]\n",
    "\n",
    "    for _, row in results.iterrows():\n",
    "        print(\"=\"*60)\n",
    "        print(f\"🍽️  Recipe: {row['name']}\")\n",
    "        print(f\"🔗 Similarity Score: {row['similarity']:.3f}\\n\")\n",
    "\n",
    "        print(\"📝 Ingredients:\")\n",
    "        for ing in [row[\"ingredients\"]]:\n",
    "            print(f\" - {str(ing).strip()}\")\n",
    "\n",
    "        print(\"\\n👩‍🍳 Instructions:\")\n",
    "        for step in [row[\"steps\"]]:\n",
    "            print(f\" - {str(step).strip()}\")\n",
    "\n",
    "        print(\"=\"*60, \"\\n\")\n",
    "\n",
    "    return results"
   ]
  },
  {
   "cell_type": "code",
   "execution_count": 23,
   "id": "ba1dbd4e-49bb-4f29-b43e-d4bdbc74b177",
   "metadata": {},
   "outputs": [
    {
     "name": "stdout",
     "output_type": "stream",
     "text": [
      "============================================================\n",
      "🍽️  Recipe: Blueberry Popsicles\n",
      "🔗 Similarity Score: 0.725\n",
      "\n",
      "📝 Ingredients:\n",
      " - [\"fresh blueberries\", \"vanilla yogurt\", \"milk\", \"honey maple syrup\"]\n",
      "\n",
      "👩‍🍳 Instructions:\n",
      " - [\"Blend blueberries, yogurt, milk, and sugar until smooth.\", \"Pour mixture into eight 5-ounce paper cups.\", \"Place foil over the top of each cup.\", \"Pierce the center of the foil and insert a wooden craft stick as the handle.\", \"Freeze up to six hours.\", \"Before serving, dip cups in warm water for a few seconds.\", \"Remove paper and foil.\", \"Send children outside to drip and make a mess. Stand at window and wave at them while you eat yours.\"]\n",
      "============================================================ \n",
      "\n",
      "============================================================\n",
      "🍽️  Recipe: Blueberry Milkshake\n",
      "🔗 Similarity Score: 0.723\n",
      "\n",
      "📝 Ingredients:\n",
      " - [\"blueberries\", \"milk\", \"vanilla\", \"honey sugar\"]\n",
      "\n",
      "👩‍🍳 Instructions:\n",
      " - [\"put all ingredients in a blender or a food processor and blend together until creamy.\", \"pour into cups and enjoy!\"]\n",
      "============================================================ \n",
      "\n",
      "============================================================\n",
      "🍽️  Recipe: Honey Blueberry Spread\n",
      "🔗 Similarity Score: 0.716\n",
      "\n",
      "📝 Ingredients:\n",
      " - [\"fresh blueberries frozen blueberries\", \"honey\", \"butter margarine\"]\n",
      "\n",
      "👩‍🍳 Instructions:\n",
      " - [\"Heat blueberries and 2 tablespoons honey in small saucepan to a boil over medium-high heat, stirring constantly.\", \"Cook 3 to 4 minutes or until mixture or until mixture thickens and is reduced by half.  Cool.\", \"Blend in remaining honey.\", \"Beat in butter or margarine.\", \"Serve at room temperature and store tightly covered in the fridge when not using.\"]\n",
      "============================================================ \n",
      "\n",
      "============================================================\n",
      "🍽️  Recipe: Blueberry Cake Without Grains\n",
      "🔗 Similarity Score: 0.674\n",
      "\n",
      "📝 Ingredients:\n",
      " - [\"honey\", \"vanilla\", \"almonds chopped\", \"blueberries\"]\n",
      "\n",
      "👩‍🍳 Instructions:\n",
      " - [\"Allow butter to soften or melt.  Preheat oven to 175°C or 325°F.\", \"Prepare a small baking dish or individual dishes.\", \"If using a food processor or mixer, combine all ingredients except the berries until smooth and combined.  If mixing by hand, combine butter and nutss, then add eggs, honey and vanilla.\", \"Stir in berries last.\", \"Bake for about 20 minutes.  Finished cake should be a bit firm to the touch.\", \"Note:  Taste-test the batter for the right amount of honey, then let them cool to fully enjoy the taste.\"]\n",
      "============================================================ \n",
      "\n",
      "============================================================\n",
      "🍽️  Recipe: Healthy Blueberry Milkshake\n",
      "🔗 Similarity Score: 0.670\n",
      "\n",
      "📝 Ingredients:\n",
      " - [\"bananas\", \"blueberries frozen blueberries\", \"yogurt\"]\n",
      "\n",
      "👩‍🍳 Instructions:\n",
      " - [\"Place all ingredients into a blended.\", \"Blend until smooth.\", \"Alternatively, blend in a tall 16-17 fl oz cup using a stick blender.\"]\n",
      "============================================================ \n",
      "\n"
     ]
    },
    {
     "data": {
      "text/html": [
       "<div>\n",
       "<style scoped>\n",
       "    .dataframe tbody tr th:only-of-type {\n",
       "        vertical-align: middle;\n",
       "    }\n",
       "\n",
       "    .dataframe tbody tr th {\n",
       "        vertical-align: top;\n",
       "    }\n",
       "\n",
       "    .dataframe thead th {\n",
       "        text-align: right;\n",
       "    }\n",
       "</style>\n",
       "<table border=\"1\" class=\"dataframe\">\n",
       "  <thead>\n",
       "    <tr style=\"text-align: right;\">\n",
       "      <th></th>\n",
       "      <th>name</th>\n",
       "      <th>ingredients</th>\n",
       "      <th>steps</th>\n",
       "      <th>similarity</th>\n",
       "    </tr>\n",
       "  </thead>\n",
       "  <tbody>\n",
       "    <tr>\n",
       "      <th>319651</th>\n",
       "      <td>Blueberry Popsicles</td>\n",
       "      <td>[\"fresh blueberries\", \"vanilla yogurt\", \"milk\"...</td>\n",
       "      <td>[\"Blend blueberries, yogurt, milk, and sugar u...</td>\n",
       "      <td>0.725340</td>\n",
       "    </tr>\n",
       "    <tr>\n",
       "      <th>68609</th>\n",
       "      <td>Blueberry Milkshake</td>\n",
       "      <td>[\"blueberries\", \"milk\", \"vanilla\", \"honey sugar\"]</td>\n",
       "      <td>[\"put all ingredients in a blender or a food p...</td>\n",
       "      <td>0.722718</td>\n",
       "    </tr>\n",
       "    <tr>\n",
       "      <th>484359</th>\n",
       "      <td>Honey Blueberry Spread</td>\n",
       "      <td>[\"fresh blueberries frozen blueberries\", \"hone...</td>\n",
       "      <td>[\"Heat blueberries and 2 tablespoons honey in ...</td>\n",
       "      <td>0.716386</td>\n",
       "    </tr>\n",
       "    <tr>\n",
       "      <th>410442</th>\n",
       "      <td>Blueberry Cake Without Grains</td>\n",
       "      <td>[\"honey\", \"vanilla\", \"almonds chopped\", \"blueb...</td>\n",
       "      <td>[\"Allow butter to soften or melt.  Preheat ove...</td>\n",
       "      <td>0.674059</td>\n",
       "    </tr>\n",
       "    <tr>\n",
       "      <th>178190</th>\n",
       "      <td>Healthy Blueberry Milkshake</td>\n",
       "      <td>[\"bananas\", \"blueberries frozen blueberries\", ...</td>\n",
       "      <td>[\"Place all ingredients into a blended.\", \"Ble...</td>\n",
       "      <td>0.669613</td>\n",
       "    </tr>\n",
       "  </tbody>\n",
       "</table>\n",
       "</div>"
      ],
      "text/plain": [
       "                                 name  \\\n",
       "319651            Blueberry Popsicles   \n",
       "68609             Blueberry Milkshake   \n",
       "484359         Honey Blueberry Spread   \n",
       "410442  Blueberry Cake Without Grains   \n",
       "178190    Healthy Blueberry Milkshake   \n",
       "\n",
       "                                              ingredients  \\\n",
       "319651  [\"fresh blueberries\", \"vanilla yogurt\", \"milk\"...   \n",
       "68609   [\"blueberries\", \"milk\", \"vanilla\", \"honey sugar\"]   \n",
       "484359  [\"fresh blueberries frozen blueberries\", \"hone...   \n",
       "410442  [\"honey\", \"vanilla\", \"almonds chopped\", \"blueb...   \n",
       "178190  [\"bananas\", \"blueberries frozen blueberries\", ...   \n",
       "\n",
       "                                                    steps  similarity  \n",
       "319651  [\"Blend blueberries, yogurt, milk, and sugar u...    0.725340  \n",
       "68609   [\"put all ingredients in a blender or a food p...    0.722718  \n",
       "484359  [\"Heat blueberries and 2 tablespoons honey in ...    0.716386  \n",
       "410442  [\"Allow butter to soften or melt.  Preheat ove...    0.674059  \n",
       "178190  [\"Place all ingredients into a blended.\", \"Ble...    0.669613  "
      ]
     },
     "execution_count": 23,
     "metadata": {},
     "output_type": "execute_result"
    }
   ],
   "source": [
    "user_ingredients = ['blueberries', 'yogurt', 'honey']\n",
    "recommend_recipes(user_ingredients, top_n=5)"
   ]
  },
  {
   "cell_type": "code",
   "execution_count": null,
   "id": "d8819521-0609-4aa5-893e-47d10bce34bb",
   "metadata": {},
   "outputs": [],
   "source": []
  }
 ],
 "metadata": {
  "kernelspec": {
   "display_name": "Python 3 (ipykernel)",
   "language": "python",
   "name": "python3"
  },
  "language_info": {
   "codemirror_mode": {
    "name": "ipython",
    "version": 3
   },
   "file_extension": ".py",
   "mimetype": "text/x-python",
   "name": "python",
   "nbconvert_exporter": "python",
   "pygments_lexer": "ipython3",
   "version": "3.13.1"
  }
 },
 "nbformat": 4,
 "nbformat_minor": 5
}
