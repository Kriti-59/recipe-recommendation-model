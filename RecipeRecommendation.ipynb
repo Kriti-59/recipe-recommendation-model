{
 "cells": [
  {
   "cell_type": "markdown",
   "id": "c38337ac-3dce-433f-a96b-1c5cf1e86cdc",
   "metadata": {},
   "source": [
    "## Recipe Recommendation "
   ]
  },
  {
   "cell_type": "code",
   "execution_count": 3,
   "id": "9ef7eb37-0b4e-4c76-ac81-d5c40c3a3ea2",
   "metadata": {},
   "outputs": [],
   "source": [
    "import pandas as pd\n",
    "import numpy as np"
   ]
  },
  {
   "cell_type": "code",
   "execution_count": 4,
   "id": "54b44b3e-3d6e-4430-8776-80b7e188df8a",
   "metadata": {},
   "outputs": [],
   "source": [
    "# Load the dataset\n",
    "data = pd.read_csv(\"recipes.csv\")"
   ]
  },
  {
   "cell_type": "code",
   "execution_count": null,
   "id": "b3b438ad-3781-425a-acb8-5ceae91b5c90",
   "metadata": {},
   "outputs": [],
   "source": [
    "print(data.shape)\n",
    "print(data.columns)\n",
    "print(data.head(3))"
   ]
  }
 ],
 "metadata": {
  "kernelspec": {
   "display_name": "Python 3 (ipykernel)",
   "language": "python",
   "name": "python3"
  },
  "language_info": {
   "codemirror_mode": {
    "name": "ipython",
    "version": 3
   },
   "file_extension": ".py",
   "mimetype": "text/x-python",
   "name": "python",
   "nbconvert_exporter": "python",
   "pygments_lexer": "ipython3",
   "version": "3.13.1"
  }
 },
 "nbformat": 4,
 "nbformat_minor": 5
}
