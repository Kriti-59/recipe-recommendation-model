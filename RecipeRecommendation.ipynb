{
 "cells": [
  {
   "cell_type": "markdown",
   "id": "c38337ac-3dce-433f-a96b-1c5cf1e86cdc",
   "metadata": {},
   "source": [
    "## Recipe Recommendation "
   ]
  },
  {
   "cell_type": "code",
   "execution_count": 1,
   "id": "9ef7eb37-0b4e-4c76-ac81-d5c40c3a3ea2",
   "metadata": {},
   "outputs": [],
   "source": [
    "import pandas as pd\n",
    "import numpy as np"
   ]
  },
  {
   "cell_type": "code",
   "execution_count": 2,
   "id": "54b44b3e-3d6e-4430-8776-80b7e188df8a",
   "metadata": {},
   "outputs": [],
   "source": [
    "# Load the dataset\n",
    "data = pd.read_csv(\"recipes_ingredients.csv\")"
   ]
  },
  {
   "cell_type": "code",
   "execution_count": 3,
   "id": "b3b438ad-3781-425a-acb8-5ceae91b5c90",
   "metadata": {
    "scrolled": true
   },
   "outputs": [
    {
     "name": "stdout",
     "output_type": "stream",
     "text": [
      "(500471, 9)\n",
      "Index(['id', 'name', 'description', 'ingredients', 'ingredients_raw', 'steps',\n",
      "       'servings', 'serving_size', 'tags'],\n",
      "      dtype='object')\n",
      "       id                             name  \\\n",
      "0   71247          Cherry Streusel Cobbler   \n",
      "1   76133  Reuben and Swiss Casserole Bake   \n",
      "2  503816                 Yam-Pecan Recipe   \n",
      "\n",
      "                                         description  \\\n",
      "0  I haven't made this in years, so I'm just gues...   \n",
      "1  I think this is even better than a reuben sand...   \n",
      "2  A lady I work with heard me taking about ZWT a...   \n",
      "\n",
      "                                         ingredients  \\\n",
      "0  [\"cherry pie filling\", \"condensed milk\", \"melt...   \n",
      "1  [\"corned beef chopped\", \"sauerkraut cold water...   \n",
      "2  [\"unsalted butter\", \"vegetable oil\", \"all - pu...   \n",
      "\n",
      "                                     ingredients_raw  \\\n",
      "0  [\"2 (21   ounce) cans   cherry pie filling\",\"2...   \n",
      "1  [\"1/2-1   lb    corned beef, cooked and choppe...   \n",
      "2  [\"3/4  cup    unsalted butter, at room tempera...   \n",
      "\n",
      "                                               steps  servings serving_size  \\\n",
      "0  [\"Preheat oven to 375°F.\", \"Spread cherry pie ...       6.0    1 (347 g)   \n",
      "1  [\"Set oven to 350 degrees F.\", \"Butter a 9 x 1...       4.0    1 (207 g)   \n",
      "2  [\"Preheat oven to 350°F  In a mixing bowl, usi...       8.0    1 (198 g)   \n",
      "\n",
      "                                                tags  \n",
      "0  [\"60-minutes-or-less\", \"time-to-make\", \"course...  \n",
      "1  [\"60-minutes-or-less\", \"time-to-make\", \"course...  \n",
      "2  [\"time-to-make\", \"course\", \"main-ingredient\", ...  \n"
     ]
    }
   ],
   "source": [
    "print(data.shape)\n",
    "print(data.columns)\n",
    "print(data.head(3))"
   ]
  },
  {
   "cell_type": "code",
   "execution_count": 4,
   "id": "eeeabcb9-5141-420c-b581-f179684d61bd",
   "metadata": {},
   "outputs": [
    {
     "name": "stdout",
     "output_type": "stream",
     "text": [
      "       id                             name  \\\n",
      "0   71247          Cherry Streusel Cobbler   \n",
      "1   76133  Reuben and Swiss Casserole Bake   \n",
      "2  503816                 Yam-Pecan Recipe   \n",
      "\n",
      "                                         ingredients  \\\n",
      "0  [\"cherry pie filling\", \"condensed milk\", \"melt...   \n",
      "1  [\"corned beef chopped\", \"sauerkraut cold water...   \n",
      "2  [\"unsalted butter\", \"vegetable oil\", \"all - pu...   \n",
      "\n",
      "                                               steps  \n",
      "0  [\"Preheat oven to 375°F.\", \"Spread cherry pie ...  \n",
      "1  [\"Set oven to 350 degrees F.\", \"Butter a 9 x 1...  \n",
      "2  [\"Preheat oven to 350°F  In a mixing bowl, usi...  \n"
     ]
    }
   ],
   "source": [
    "recipes = data[['id', 'name', 'ingredients', 'steps']]\n",
    "print(recipes.head(3))"
   ]
  },
  {
   "cell_type": "code",
   "execution_count": 5,
   "id": "48d625f3-c282-4f81-837f-8ad4bd62cb0d",
   "metadata": {},
   "outputs": [
    {
     "name": "stdout",
     "output_type": "stream",
     "text": [
      "[\"cherry pie filling\", \"condensed milk\", \"melted margarine\", \"cinnamon\", \"nutmeg\", \"light brown sugar\", \"flour\", \"margarine\", \"chopped nuts\", \"oats\", \"butter - flavored cooking spray\"]\n"
     ]
    }
   ],
   "source": [
    "print(recipes['ingredients'].iloc[0])"
   ]
  },
  {
   "cell_type": "markdown",
   "id": "884168d5-de58-4a41-8167-7b729d3c3ecf",
   "metadata": {},
   "source": [
    "### Convert ingredients into TF-IDF vectors."
   ]
  },
  {
   "cell_type": "code",
   "execution_count": 6,
   "id": "a8990f02-62c0-424c-8bfe-55b002a7eeca",
   "metadata": {},
   "outputs": [],
   "source": [
    "from sklearn.feature_extraction.text import TfidfVectorizer\n",
    "from sklearn.metrics.pairwise import cosine_similarity"
   ]
  },
  {
   "cell_type": "code",
   "execution_count": 7,
   "id": "c218e7c5-483f-458e-9829-a5a0c7e4cbea",
   "metadata": {},
   "outputs": [],
   "source": [
    "vectorizer = TfidfVectorizer()\n",
    "X = vectorizer.fit_transform(recipes[\"ingredients\"])"
   ]
  }
 ],
 "metadata": {
  "kernelspec": {
   "display_name": "Python 3 (ipykernel)",
   "language": "python",
   "name": "python3"
  },
  "language_info": {
   "codemirror_mode": {
    "name": "ipython",
    "version": 3
   },
   "file_extension": ".py",
   "mimetype": "text/x-python",
   "name": "python",
   "nbconvert_exporter": "python",
   "pygments_lexer": "ipython3",
   "version": "3.13.1"
  }
 },
 "nbformat": 4,
 "nbformat_minor": 5
}
